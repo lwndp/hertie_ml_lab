{
 "cells": [
  {
   "cell_type": "markdown",
   "id": "54579e42",
   "metadata": {},
   "source": [
    "# Lab 10\n",
    "## Machine Learning"
   ]
  },
  {
   "cell_type": "markdown",
   "id": "21654b96",
   "metadata": {},
   "source": [
    "# Neural Networks"
   ]
  },
  {
   "cell_type": "markdown",
   "id": "32d87165",
   "metadata": {},
   "source": [
    "## Side Note: PyTorch vs TensorFlow (and others)\n",
    "\n",
    "When building and training neural networks, there are several major libraries available. The two dominant ones are:\n",
    "\n",
    "### PyTorch\n",
    "- Developed by Facebook (Meta).\n",
    "- Emphasizes **dynamic computation graphs** (eager execution), making it intuitive and easy to debug.\n",
    "- Favored in **academia and research** because of its flexibility and readability.\n",
    "- Widely used in educational materials and cutting-edge research papers.\n",
    "\n",
    "### TensorFlow\n",
    "- Developed by Google.\n",
    "- Originally emphasized **static computation graphs** (graph execution), which can optimize performance at large scale.\n",
    "- Used heavily in **industry** and **production environments** for deploying large-scale models.\n",
    "- TensorFlow 2.x has improved usability, making it closer to PyTorch in style (eager execution by default).\n",
    "\n",
    "### Other Libraries Worth Mentioning\n",
    "- **JAX**: Developed by Google Research. Focused on high-performance scientific computing; often used for cutting-edge research involving automatic differentiation and massive parallelization.\n",
    "- **Keras**: Originally an independent API, now tightly integrated with TensorFlow. Provides a very **high-level** interface, good for beginners or rapid prototyping.\n",
    "- **Fastai**: Built on top of PyTorch. Provides **simplified workflows** for common deep learning tasks with best practices built-in."
   ]
  },
  {
   "cell_type": "code",
   "execution_count": 4,
   "id": "ed7c5e2a-40c2-4e75-9ccf-04e246085871",
   "metadata": {
    "id": "ed7c5e2a-40c2-4e75-9ccf-04e246085871"
   },
   "outputs": [],
   "source": [
    "# Import the Libraries\n",
    "import numpy as np\n",
    "import pandas as pd\n",
    "import seaborn as sns\n",
    "import matplotlib.pyplot as plt\n",
    "import pandas as pd\n",
    "from sklearn.model_selection import train_test_split\n",
    "from sklearn.metrics import accuracy_score\n",
    "\n",
    "# Pytorch is the new library we will be using for fitting neural networks\n",
    "import torch\n",
    "from torch.utils.data import DataLoader, TensorDataset\n",
    "from torch import nn, optim"
   ]
  },
  {
   "cell_type": "markdown",
   "id": "koj0_W4gEnig",
   "metadata": {
    "id": "koj0_W4gEnig"
   },
   "source": [
    "## Dataset: Predicting Student Dropout\n",
    "The dataset contains features related to students' academic performance and other factors. The goal is to predict whether a student will drop out. More info can be found here: https://archive.ics.uci.edu/dataset/697/predict+students+dropout+and+academic+success.\n",
    "\n",
    "- **Features**: 34 columns (e.g., attendance, grades, etc.).\n",
    "- **Target**: Binary classification (0 = No Dropout, 1 = Dropout)."
   ]
  },
  {
   "cell_type": "code",
   "execution_count": 5,
   "id": "9ee24b27-e891-431b-b3b4-4e37d5745332",
   "metadata": {
    "id": "9ee24b27-e891-431b-b3b4-4e37d5745332"
   },
   "outputs": [
    {
     "data": {
      "text/plain": [
       "(3630, 35)"
      ]
     },
     "execution_count": 5,
     "metadata": {},
     "output_type": "execute_result"
    }
   ],
   "source": [
    "# Load the dataset\n",
    "df = pd.read_csv(\"dropoutData.csv\")\n",
    "df.shape"
   ]
  },
  {
   "cell_type": "markdown",
   "id": "d0cfda7d",
   "metadata": {},
   "source": [
    "We do a Test/Training/Validation split as usual, here I have given a nice automated way to do it that does the maths for you!"
   ]
  },
  {
   "cell_type": "code",
   "execution_count": 6,
   "id": "3ce31d1c-021b-41af-854d-0561d9ea01d3",
   "metadata": {
    "id": "3ce31d1c-021b-41af-854d-0561d9ea01d3"
   },
   "outputs": [],
   "source": [
    "train_ratio = 0.7\n",
    "val_ratio = 0.15\n",
    "test_ratio = 0.15\n",
    "\n",
    "# split whole into train and test, then split test into val and test\n",
    "X_train, X_test, y_train, y_test = train_test_split(df.drop('Target', axis=1), df['Target'], train_size=train_ratio, random_state=123)\n",
    "X_val, X_test, y_val, y_test = train_test_split(X_test, y_test, train_size=val_ratio/(val_ratio + test_ratio), random_state=123)"
   ]
  },
  {
   "cell_type": "markdown",
   "id": "d88b2898",
   "metadata": {},
   "source": [
    "We have to convert the data into numpy arrays for pytorch to work with them as nueral networks only take matrices of numbers - much of the progress in Deep Learning has been finding clever ways to encode other information as matrices of numbers - and letting models learn these representations!"
   ]
  },
  {
   "cell_type": "code",
   "execution_count": 7,
   "id": "67f1e668-b0b4-45a5-80c3-33f0eeb1c521",
   "metadata": {
    "id": "67f1e668-b0b4-45a5-80c3-33f0eeb1c521"
   },
   "outputs": [],
   "source": [
    "X_train=X_train.to_numpy()\n",
    "X_test=X_test.to_numpy()\n",
    "X_val=X_val.to_numpy()\n",
    "y_train=y_train.to_numpy()\n",
    "y_test=y_test.to_numpy()\n",
    "y_val=y_val.to_numpy()"
   ]
  },
  {
   "cell_type": "markdown",
   "id": "41ef4c38",
   "metadata": {},
   "source": [
    "PyTorch uses tensors as its core data structure, which are similar to multidimensional arrays. Tensors are designed to easily run computations on both CPUs and GPUs, enabling much faster training for large models.\n",
    "\n",
    "We won't look at it in depth, but in practice swtiching to GPU is as simple as adding a line like:\n",
    "\n",
    "`device = torch.device('cuda' if torch.cuda.is_available() else 'cpu')`\n",
    "\n",
    "and then moving tensors and models to this device:\n",
    "\n",
    "`model = model.to(device)\n",
    "tensor = tensor.to(device)`"
   ]
  },
  {
   "cell_type": "code",
   "execution_count": 8,
   "id": "6cce1a11-3414-43c5-8cb9-e93ba4bec666",
   "metadata": {
    "id": "6cce1a11-3414-43c5-8cb9-e93ba4bec666"
   },
   "outputs": [],
   "source": [
    "train_dataset = TensorDataset(torch.tensor(X_train).float(), torch.tensor(y_train).long())\n",
    "val_dataset= TensorDataset(torch.tensor(X_val).float(), torch.tensor(y_val).long())\n",
    "test_dataset=TensorDataset(torch.tensor(X_test).float(), torch.tensor(y_test).long())"
   ]
  },
  {
   "cell_type": "markdown",
   "id": "e2f6ae64",
   "metadata": {},
   "source": [
    "### DataLoaders and Batch Size\n",
    "\n",
    "When training a neural network, we rarely pass all the data through the model at once.  \n",
    "Instead, we split the data into small **batches** and train on each batch separately.\n",
    "\n",
    "**Batch Size** is a hyperparameter which controls how many samples are passed through the network before updating the weights once, it is a tradeoff between speed and accuracy:\n",
    "- **Small batch size** (e.g., 16, 32): Noisy updates, faster iterations, may help generalization.\n",
    "- **Large batch size** (e.g., 128, 256+): Smoother updates, better use of GPU, but can lead to worse generalization if too large.\n",
    "\n",
    "In PyTorch, the `DataLoader` class automatically:\n",
    "- **Shuffles** the data (optional),\n",
    "- **Batches** the data into mini-batches,\n",
    "- **Loads** the data efficiently during training (even supports parallel loading on multiple CPU cores)."
   ]
  },
  {
   "cell_type": "code",
   "execution_count": 10,
   "id": "f196a461-8437-4f77-9b37-17b1d5cede36",
   "metadata": {
    "id": "f196a461-8437-4f77-9b37-17b1d5cede36"
   },
   "outputs": [
    {
     "name": "stdout",
     "output_type": "stream",
     "text": [
      "No. of batches train dataloader: 79 and total train samples: 2528, 32\n",
      "No. of batches val dataloader: 17 and total val samples: 544\n",
      "No. of batches test dataloader: 17 and test train samples: 544\n"
     ]
    }
   ],
   "source": [
    "## Setting batchsizes and creating dataloaders\n",
    "train_bs = 32\n",
    "val_bs = 32\n",
    "test_bs = 32\n",
    "\n",
    "train_dataloader = DataLoader(train_dataset, batch_size=train_bs, shuffle=True, drop_last=True) #dataset\n",
    "val_dataloader = DataLoader(val_dataset, batch_size=val_bs, shuffle=False, drop_last=True)\n",
    "test_dataloader = DataLoader(test_dataset, batch_size=test_bs, shuffle=False, drop_last=True)\n",
    "\n",
    "print(f'No. of batches train dataloader: {len(train_dataloader)} and total train samples: {len(train_dataloader)*train_bs}, {train_dataloader.batch_size}')\n",
    "print(f'No. of batches val dataloader: {len(val_dataloader)} and total val samples: {len(val_dataloader)*val_bs}')\n",
    "print(f'No. of batches test dataloader: {len(test_dataloader)} and test train samples: {len(test_dataloader)*test_bs}')"
   ]
  },
  {
   "cell_type": "markdown",
   "id": "297587f4",
   "metadata": {},
   "source": [
    "### Training and Testing Neural Networks\n",
    "\n",
    "Here we manually write the loops for training and testing our neural networks.  While higher-level libraries can automate this, it’s important to first understand what is happening in detail to see how gradients flow and update the weights and because we often have to customise and debug these steps for particular problems.\n",
    "\n",
    "Each training step follows this cycle:\n",
    "\n",
    "1. **Forward Pass** — make predictions.\n",
    "2. **Compute Loss** — measure how wrong the predictions are.\n",
    "3. **Backward Pass** — calculate gradients (backpropagation).\n",
    "4. **Update Weights** — adjust parameters to reduce the error.\n",
    "5. **Zero Gradients** — clear old gradients before the next step.\n",
    "\n",
    "Below, we'll define simple `train_loop` and `test_loop` functions that handle these steps. Try to understand what is happening in each line!"
   ]
  },
  {
   "cell_type": "code",
   "execution_count": 11,
   "id": "639836f3-401b-4a60-8c68-9c2d2bef4d75",
   "metadata": {
    "id": "639836f3-401b-4a60-8c68-9c2d2bef4d75"
   },
   "outputs": [],
   "source": [
    "def train_loop(model, tr_dataloader, loss_fn, opt):\n",
    "    avg_loss = 0 # to store running loss\n",
    "    model.train() # Set model in training mode\n",
    "    for batch_idx, (X, y) in enumerate(tr_dataloader):\n",
    "        pred = model(X) # make prediction on current batch\n",
    "        loss = loss_fn(pred,y) # calculate loss\n",
    "        loss.backward() # calculates gradients\n",
    "        opt.step() # update weights\n",
    "        opt.zero_grad() # set gradients to zero for next batch\n",
    "        avg_loss += loss.item()\n",
    "        #print(f'Batch no. {batch_idx}, Batch loss: {loss.item():.5f}')\n",
    "    print(f'Average training Loss: {avg_loss/len(tr_dataloader):.5f}')\n",
    "    train_loss = avg_loss/len(tr_dataloader)\n",
    "    return train_loss\n",
    "\n",
    "def test_loop(model, dataloader, loss_fn ):\n",
    "    test_loss = 0.\n",
    "    correct = 0\n",
    "    model.eval()\n",
    "    bs = dataloader.batch_size\n",
    "    for batch_idx, (X, y) in enumerate(dataloader):\n",
    "        pred = model(X) # make prediction on current batch\n",
    "        test_loss += loss_fn(pred,y).item() # calculate loss\n",
    "        correct += (pred.argmax(1) == y).type(torch.float).sum().item() # not required for regression\n",
    "\n",
    "    test_loss /= len(dataloader)\n",
    "    correct /= (len(dataloader)*dataloader.batch_size)\n",
    "    print(f'Error: \\n Accuracy: {(100*correct):0.1f}%, Avg test loss: {test_loss:.5f} \\n')\n",
    "\n",
    "    return test_loss"
   ]
  },
  {
   "cell_type": "markdown",
   "id": "fa595401",
   "metadata": {},
   "source": [
    "I also define a function to make plotting the loss quicker."
   ]
  },
  {
   "cell_type": "code",
   "execution_count": 12,
   "id": "c3265a97",
   "metadata": {},
   "outputs": [],
   "source": [
    "def plot_loss(train_loss, val_loss, epochs):\n",
    "    xax = range(epochs)\n",
    "    plt.plot(xax, np.array(train_loss),'r-', xax, np.array(val_loss),'g-'  )\n",
    "    plt.xlabel('Epochs')\n",
    "    plt.ylabel('Loss')\n",
    "    plt.legend(['Train loss','Val loss' ])\n",
    "    plt.show()"
   ]
  },
  {
   "cell_type": "markdown",
   "id": "4bb1b0be",
   "metadata": {},
   "source": [
    "### Neural Network Architecture\n",
    "\n",
    "One of the most important aspects of designing a neural network is deciding its **architecture** — that is, how many layers it will have, how many neurons in each layer, and how they are connected.\n",
    "\n",
    "A basic neural network consists of three types of layers:\n",
    "\n",
    "- **Input Layer**:  \n",
    "  The first layer of the network. Each neuron in this layer corresponds to one feature of the input data.  \n",
    "  For example, if your input data has 2 features (like coordinates \\(x_1\\) and \\(x_2\\)), the input layer will have 2 neurons.\n",
    "\n",
    "- **Hidden Layers**:  \n",
    "  These layers sit between the input and output layers and perform most of the computation.  \n",
    "  Each hidden neuron computes a weighted sum of its inputs, adds a bias, and passes the result through an activation function.  \n",
    "  A network can have any number hidden layers. Deeper networks (with more hidden layers) can often learn very complex patterns efficiently - but are harder to train. More \n",
    "\n",
    "- **Output Layer**:  \n",
    "  The final layer of the network. It produces the network's prediction.  \n",
    "  The number of neurons here depends on the task:\n",
    "  - **Binary classification** → 1 neuron (with a sigmoid activation).\n",
    "  - **Multi-class classification** → One neuron per class (with softmax activation).\n",
    "  - **Regression** → 1 neuron (typically no activation or a linear activation).\n",
    "\n",
    "Below we define a small feedforward neural network with one hidden layer, using `nn.Sequential` to stack layers and ReLU activation.  \n",
    "The network maps 34 input features to 2 output classes (for classification)."
   ]
  },
  {
   "cell_type": "code",
   "execution_count": 13,
   "id": "98d9cc16-04f2-4228-b99f-e602b7d964b4",
   "metadata": {
    "id": "98d9cc16-04f2-4228-b99f-e602b7d964b4",
    "scrolled": true
   },
   "outputs": [],
   "source": [
    "class Network(nn.Module):\n",
    "    def __init__(self,hid_layer=[100]):\n",
    "        super().__init__()\n",
    "        self.net = nn.Sequential(\n",
    "            nn.Linear(34, hid_layer[0]),\n",
    "            nn.ReLU(),\n",
    "            nn.Linear(hid_layer[0], 2)\n",
    "        )\n",
    "    def forward(self,x):\n",
    "        logits = self.net(x)\n",
    "        return logits"
   ]
  },
  {
   "cell_type": "markdown",
   "id": "04484655",
   "metadata": {},
   "source": [
    "### Training Setup and Hyperparameter selection\n",
    "\n",
    "We now set up the model instance we will train:\n",
    "\n",
    "- **Hidden Layer**: We only have one hidden layer in this model, I select 80 nodes as that should be plenty.\n",
    "- **Epochs**: This is the number of full passes through the training data we will perform, we want to make sure this is long enough to reach convergence.\n",
    "- **Learning Rate**: Another hyperparameter we can tune, I use 0.02 as mentioned in the slides to start - we will also tweak this based on how convergence looks in our loss plot.\n",
    "- **Loss Function**: Cross-entropy (as we are doing binary classification).\n",
    "- **Optimizer**: Adam - a very powerful and common optimiser.\n",
    "\n",
    "We store the training and validation losses after each epoch to visualize learning.\n",
    "\n",
    "The loop below trains the model and evaluates it on the validation set after each epoch."
   ]
  },
  {
   "cell_type": "code",
   "execution_count": null,
   "id": "9a82e7f7-918d-4aa9-bc62-6b0d30e25079",
   "metadata": {
    "id": "9a82e7f7-918d-4aa9-bc62-6b0d30e25079"
   },
   "outputs": [
    {
     "name": "stdout",
     "output_type": "stream",
     "text": [
      "Epoch 0\n",
      "Average training Loss: 0.50661\n",
      "Error: \n",
      " Accuracy: 91.5%, Avg test loss: 0.22738 \n",
      "\n",
      "Epoch 1\n",
      "Average training Loss: 0.28924\n",
      "Error: \n",
      " Accuracy: 90.4%, Avg test loss: 0.25560 \n",
      "\n",
      "Epoch 2\n",
      "Average training Loss: 0.27454\n",
      "Error: \n",
      " Accuracy: 90.3%, Avg test loss: 0.26647 \n",
      "\n",
      "Epoch 3\n",
      "Average training Loss: 0.26583\n",
      "Error: \n",
      " Accuracy: 92.6%, Avg test loss: 0.22941 \n",
      "\n",
      "Epoch 4\n",
      "Average training Loss: 0.24737\n",
      "Error: \n",
      " Accuracy: 92.6%, Avg test loss: 0.21186 \n",
      "\n",
      "Epoch 5\n",
      "Average training Loss: 0.24880\n",
      "Error: \n",
      " Accuracy: 92.8%, Avg test loss: 0.21145 \n",
      "\n",
      "Epoch 6\n",
      "Average training Loss: 0.25657\n",
      "Error: \n",
      " Accuracy: 90.8%, Avg test loss: 0.22851 \n",
      "\n",
      "Epoch 7\n",
      "Average training Loss: 0.23735\n",
      "Error: \n",
      " Accuracy: 93.4%, Avg test loss: 0.19995 \n",
      "\n",
      "Epoch 8\n",
      "Average training Loss: 0.26557\n",
      "Error: \n",
      " Accuracy: 89.5%, Avg test loss: 0.26109 \n",
      "\n",
      "Epoch 9\n",
      "Average training Loss: 0.24912\n",
      "Error: \n",
      " Accuracy: 90.6%, Avg test loss: 0.25542 \n",
      "\n",
      "Epoch 10\n",
      "Average training Loss: 0.24404\n",
      "Error: \n",
      " Accuracy: 93.6%, Avg test loss: 0.20803 \n",
      "\n",
      "Epoch 11\n",
      "Average training Loss: 0.23576\n",
      "Error: \n",
      " Accuracy: 91.0%, Avg test loss: 0.24636 \n",
      "\n",
      "Epoch 12\n",
      "Average training Loss: 0.25025\n",
      "Error: \n",
      " Accuracy: 93.0%, Avg test loss: 0.20436 \n",
      "\n",
      "Epoch 13\n",
      "Average training Loss: 0.22913\n",
      "Error: \n",
      " Accuracy: 87.3%, Avg test loss: 0.30586 \n",
      "\n",
      "Epoch 14\n",
      "Average training Loss: 0.23591\n",
      "Error: \n",
      " Accuracy: 93.2%, Avg test loss: 0.20148 \n",
      "\n",
      "Epoch 15\n",
      "Average training Loss: 0.24447\n",
      "Error: \n",
      " Accuracy: 92.5%, Avg test loss: 0.22300 \n",
      "\n",
      "Epoch 16\n",
      "Average training Loss: 0.23465\n",
      "Error: \n",
      " Accuracy: 92.1%, Avg test loss: 0.22612 \n",
      "\n",
      "Epoch 17\n",
      "Average training Loss: 0.24339\n",
      "Error: \n",
      " Accuracy: 93.4%, Avg test loss: 0.20252 \n",
      "\n",
      "Epoch 18\n",
      "Average training Loss: 0.22485\n",
      "Error: \n",
      " Accuracy: 90.1%, Avg test loss: 0.25786 \n",
      "\n",
      "Epoch 19\n",
      "Average training Loss: 0.24305\n",
      "Error: \n",
      " Accuracy: 92.8%, Avg test loss: 0.20667 \n",
      "\n",
      "Epoch 20\n",
      "Average training Loss: 0.23595\n",
      "Error: \n",
      " Accuracy: 93.4%, Avg test loss: 0.20157 \n",
      "\n",
      "Epoch 21\n",
      "Average training Loss: 0.22630\n",
      "Error: \n",
      " Accuracy: 93.8%, Avg test loss: 0.21634 \n",
      "\n",
      "Epoch 22\n",
      "Average training Loss: 0.22776\n",
      "Error: \n",
      " Accuracy: 89.9%, Avg test loss: 0.27627 \n",
      "\n",
      "Epoch 23\n",
      "Average training Loss: 0.23580\n",
      "Error: \n",
      " Accuracy: 92.1%, Avg test loss: 0.22452 \n",
      "\n",
      "Epoch 24\n",
      "Average training Loss: 0.22554\n",
      "Error: \n",
      " Accuracy: 93.2%, Avg test loss: 0.20776 \n",
      "\n",
      "Epoch 25\n",
      "Average training Loss: 0.22531\n",
      "Error: \n",
      " Accuracy: 92.3%, Avg test loss: 0.20834 \n",
      "\n",
      "Epoch 26\n",
      "Average training Loss: 0.24036\n",
      "Error: \n",
      " Accuracy: 92.5%, Avg test loss: 0.25565 \n",
      "\n",
      "Epoch 27\n",
      "Average training Loss: 0.22512\n",
      "Error: \n",
      " Accuracy: 93.9%, Avg test loss: 0.20732 \n",
      "\n",
      "Epoch 28\n",
      "Average training Loss: 0.22207\n",
      "Error: \n",
      " Accuracy: 91.9%, Avg test loss: 0.22445 \n",
      "\n",
      "Epoch 29\n",
      "Average training Loss: 0.22905\n",
      "Error: \n",
      " Accuracy: 92.8%, Avg test loss: 0.21580 \n",
      "\n",
      "Epoch 30\n",
      "Average training Loss: 0.22927\n",
      "Error: \n",
      " Accuracy: 92.8%, Avg test loss: 0.21656 \n",
      "\n",
      "Epoch 31\n",
      "Average training Loss: 0.22606\n",
      "Error: \n",
      " Accuracy: 91.5%, Avg test loss: 0.21533 \n",
      "\n",
      "Epoch 32\n",
      "Average training Loss: 0.22337\n",
      "Error: \n",
      " Accuracy: 93.6%, Avg test loss: 0.22794 \n",
      "\n",
      "Epoch 33\n",
      "Average training Loss: 0.22251\n",
      "Error: \n",
      " Accuracy: 92.8%, Avg test loss: 0.20863 \n",
      "\n",
      "Epoch 34\n",
      "Average training Loss: 0.22228\n",
      "Error: \n",
      " Accuracy: 91.9%, Avg test loss: 0.21840 \n",
      "\n",
      "Epoch 35\n",
      "Average training Loss: 0.22800\n",
      "Error: \n",
      " Accuracy: 93.2%, Avg test loss: 0.21271 \n",
      "\n",
      "Epoch 36\n",
      "Average training Loss: 0.22820\n",
      "Error: \n",
      " Accuracy: 91.9%, Avg test loss: 0.21991 \n",
      "\n",
      "Epoch 37\n",
      "Average training Loss: 0.23229\n",
      "Error: \n",
      " Accuracy: 92.3%, Avg test loss: 0.21447 \n",
      "\n",
      "Epoch 38\n",
      "Average training Loss: 0.21997\n",
      "Error: \n",
      " Accuracy: 92.3%, Avg test loss: 0.21324 \n",
      "\n",
      "Epoch 39\n",
      "Average training Loss: 0.23764\n",
      "Error: \n",
      " Accuracy: 93.4%, Avg test loss: 0.21360 \n",
      "\n"
     ]
    },
    {
     "data": {
      "image/png": "[encoded data removed]",
      "text/plain": [
       "<Figure size 640x480 with 1 Axes>"
      ]
     },
     "metadata": {},
     "output_type": "display_data"
    }
   ],
   "source": [
    "hid_layer = [80] # number of nodes\n",
    "model = Network(hid_layer) # the model object is an instance of the class Network\n",
    "\n",
    "# Hyperparameters\n",
    "epochs = 40\n",
    "learning_rate = 2e-2 \n",
    "loss_fn = nn.CrossEntropyLoss()\n",
    "opt = optim.Adam(model.parameters(), lr=learning_rate)\n",
    "train_loss = [] # list to store train loss\n",
    "val_loss = [] # list to store val loss\n",
    "\n",
    "for t in range(epochs):\n",
    "    print(f'Epoch {t}')\n",
    "    train_loss.append(train_loop(model, train_dataloader,  loss_fn, opt)) # to plot the graph\n",
    "    val_loss.append(test_loop(model, val_dataloader, loss_fn))\n",
    "\n",
    "# plot the loss\n",
    "plot_loss(train_loss, val_loss, epochs)"
   ]
  },
  {
   "cell_type": "code",
   "execution_count": 16,
   "id": "55c2945c-d4e2-4879-a0ab-e836cad2e791",
   "metadata": {
    "id": "55c2945c-d4e2-4879-a0ab-e836cad2e791"
   },
   "outputs": [
    {
     "name": "stdout",
     "output_type": "stream",
     "text": [
      "Performing test...\n",
      "\n",
      "Error: \n",
      " Accuracy: 87.5%, Avg test loss: 0.37703 \n",
      "\n"
     ]
    },
    {
     "data": {
      "text/plain": [
       "0.3770275413990021"
      ]
     },
     "execution_count": 16,
     "metadata": {},
     "output_type": "execute_result"
    }
   ],
   "source": [
    "print('Performing test...\\n')\n",
    "test_loop(model,test_dataloader,loss_fn)"
   ]
  },
  {
   "cell_type": "markdown",
   "id": "c0d12beb",
   "metadata": {},
   "source": [
    "### Adding Dropout for Regularization\n",
    "\n",
    "To reduce overfitting, we introduce **dropout layers**.  \n",
    "Dropout randomly \"switches off\" neurons during training, forcing the model to build more robust features.\n",
    "\n",
    "The `NetworkWithDropout` class below adds dropout after each hidden layer, as well as increasing the number of layers to two. We set:\n",
    "\n",
    "- **Dropout Rate**: 0.5 (proportion of neurons randomly dropped during training)."
   ]
  },
  {
   "cell_type": "code",
   "execution_count": 25,
   "id": "e8b92502-5792-4fcc-a327-eef1ce24d28d",
   "metadata": {
    "id": "e8b92502-5792-4fcc-a327-eef1ce24d28d"
   },
   "outputs": [],
   "source": [
    "class NetworkWithDropout(nn.Module):\n",
    "    def __init__(self, hid_layer=[100, 100], dropout_rate=0.5):\n",
    "        super().__init__()\n",
    "        self.net = nn.Sequential(\n",
    "            nn.Linear(34, hid_layer[0]),\n",
    "            nn.ReLU(),\n",
    "            nn.Dropout(dropout_rate),  # Dropout layer\n",
    "            nn.Linear(hid_layer[0], hid_layer[1]),\n",
    "            nn.ReLU(),\n",
    "            nn.Dropout(dropout_rate),  # Dropout layer\n",
    "            nn.Linear(hid_layer[1], 2),\n",
    "        )\n",
    "\n",
    "    def forward(self, x):\n",
    "        logits = self.net(x)\n",
    "        return logits"
   ]
  },
  {
   "cell_type": "markdown",
   "id": "52774282",
   "metadata": {},
   "source": [
    "### Weight Decay, and Early Stopping\n",
    "\n",
    "Other common regularization techniques are:\n",
    "\n",
    "- **Weight Decay**: Adds a penalty for large weights directly into the optimizer.\n",
    "- **Early Stopping**: Stops training once validation loss stops improving.\n",
    "\n",
    "These help the model generalize better to unseen data."
   ]
  },
  {
   "cell_type": "code",
   "execution_count": null,
   "id": "b16b3a53",
   "metadata": {},
   "outputs": [
    {
     "name": "stdout",
     "output_type": "stream",
     "text": [
      "Epoch 0\n",
      "Average training Loss: 0.65065\n",
      "Error: \n",
      " Accuracy: 83.3%, Avg test loss: 0.40539 \n",
      "\n",
      "Epoch 1\n",
      "Average training Loss: 0.48660\n",
      "Error: \n",
      " Accuracy: 85.1%, Avg test loss: 0.33214 \n",
      "\n",
      "Epoch 2\n",
      "Average training Loss: 0.42229\n",
      "Error: \n",
      " Accuracy: 88.1%, Avg test loss: 0.29177 \n",
      "\n",
      "Epoch 3\n",
      "Average training Loss: 0.38786\n",
      "Error: \n",
      " Accuracy: 90.1%, Avg test loss: 0.28155 \n",
      "\n",
      "Epoch 4\n",
      "Average training Loss: 0.36327\n",
      "Error: \n",
      " Accuracy: 88.6%, Avg test loss: 0.28201 \n",
      "\n",
      "Epoch 5\n",
      "Average training Loss: 0.34591\n",
      "Error: \n",
      " Accuracy: 90.4%, Avg test loss: 0.25880 \n",
      "\n",
      "Epoch 6\n",
      "Average training Loss: 0.32911\n",
      "Error: \n",
      " Accuracy: 91.7%, Avg test loss: 0.24282 \n",
      "\n",
      "Epoch 7\n",
      "Average training Loss: 0.31898\n",
      "Error: \n",
      " Accuracy: 91.2%, Avg test loss: 0.23318 \n",
      "\n",
      "Epoch 8\n",
      "Average training Loss: 0.30297\n",
      "Error: \n",
      " Accuracy: 91.7%, Avg test loss: 0.22515 \n",
      "\n",
      "Epoch 9\n",
      "Average training Loss: 0.29733\n",
      "Error: \n",
      " Accuracy: 92.1%, Avg test loss: 0.22151 \n",
      "\n",
      "Epoch 10\n",
      "Average training Loss: 0.29819\n",
      "Error: \n",
      " Accuracy: 91.2%, Avg test loss: 0.22582 \n",
      "\n",
      "Epoch 11\n",
      "Average training Loss: 0.28553\n",
      "Error: \n",
      " Accuracy: 91.5%, Avg test loss: 0.22953 \n",
      "\n",
      "Epoch 12\n",
      "Average training Loss: 0.28912\n",
      "Error: \n",
      " Accuracy: 91.9%, Avg test loss: 0.22517 \n",
      "\n",
      "Epoch 13\n",
      "Average training Loss: 0.28577\n",
      "Error: \n",
      " Accuracy: 92.3%, Avg test loss: 0.21150 \n",
      "\n",
      "Epoch 14\n",
      "Average training Loss: 0.26793\n",
      "Error: \n",
      " Accuracy: 91.9%, Avg test loss: 0.21358 \n",
      "\n",
      "Epoch 15\n",
      "Average training Loss: 0.26948\n",
      "Error: \n",
      " Accuracy: 91.5%, Avg test loss: 0.23248 \n",
      "\n",
      "Epoch 16\n",
      "Average training Loss: 0.26807\n",
      "Error: \n",
      " Accuracy: 92.6%, Avg test loss: 0.21766 \n",
      "\n",
      "Epoch 17\n",
      "Average training Loss: 0.26500\n",
      "Error: \n",
      " Accuracy: 91.9%, Avg test loss: 0.22397 \n",
      "\n",
      "Epoch 18\n",
      "Average training Loss: 0.26370\n",
      "Error: \n",
      " Accuracy: 92.1%, Avg test loss: 0.22075 \n",
      "\n",
      "Epoch 19\n",
      "Average training Loss: 0.25717\n",
      "Error: \n",
      " Accuracy: 91.9%, Avg test loss: 0.21446 \n",
      "\n",
      "Epoch 20\n",
      "Average training Loss: 0.26399\n",
      "Error: \n",
      " Accuracy: 91.7%, Avg test loss: 0.21218 \n",
      "\n",
      "Epoch 21\n",
      "Average training Loss: 0.25430\n",
      "Error: \n",
      " Accuracy: 92.8%, Avg test loss: 0.21017 \n",
      "\n",
      "Epoch 22\n",
      "Average training Loss: 0.25925\n",
      "Error: \n",
      " Accuracy: 92.3%, Avg test loss: 0.21737 \n",
      "\n",
      "Epoch 23\n",
      "Average training Loss: 0.24784\n",
      "Error: \n",
      " Accuracy: 92.5%, Avg test loss: 0.21447 \n",
      "\n",
      "Epoch 24\n",
      "Average training Loss: 0.24701\n",
      "Error: \n",
      " Accuracy: 92.6%, Avg test loss: 0.21328 \n",
      "\n",
      "Epoch 25\n",
      "Average training Loss: 0.25122\n",
      "Error: \n",
      " Accuracy: 92.5%, Avg test loss: 0.21146 \n",
      "\n",
      "Epoch 26\n",
      "Average training Loss: 0.24309\n",
      "Error: \n",
      " Accuracy: 93.0%, Avg test loss: 0.20676 \n",
      "\n",
      "Epoch 27\n",
      "Average training Loss: 0.24075\n",
      "Error: \n",
      " Accuracy: 92.8%, Avg test loss: 0.20792 \n",
      "\n",
      "Epoch 28\n",
      "Average training Loss: 0.23697\n",
      "Error: \n",
      " Accuracy: 93.2%, Avg test loss: 0.20727 \n",
      "\n",
      "Epoch 29\n",
      "Average training Loss: 0.25042\n",
      "Error: \n",
      " Accuracy: 92.5%, Avg test loss: 0.21387 \n",
      "\n",
      "Epoch 30\n",
      "Average training Loss: 0.23699\n",
      "Error: \n",
      " Accuracy: 92.3%, Avg test loss: 0.21244 \n",
      "\n",
      "Epoch 31\n",
      "Average training Loss: 0.25337\n",
      "Error: \n",
      " Accuracy: 92.8%, Avg test loss: 0.21654 \n",
      "\n",
      "Epoch 32\n",
      "Average training Loss: 0.23637\n",
      "Error: \n",
      " Accuracy: 91.9%, Avg test loss: 0.21291 \n",
      "\n",
      "Epoch 33\n",
      "Average training Loss: 0.24335\n",
      "Error: \n",
      " Accuracy: 92.8%, Avg test loss: 0.21086 \n",
      "\n",
      "Epoch 34\n",
      "Average training Loss: 0.22739\n",
      "Error: \n",
      " Accuracy: 93.0%, Avg test loss: 0.21396 \n",
      "\n",
      "Epoch 35\n",
      "Average training Loss: 0.23150\n",
      "Error: \n",
      " Accuracy: 93.0%, Avg test loss: 0.20884 \n",
      "\n",
      "Epoch 36\n",
      "Average training Loss: 0.23454\n",
      "Error: \n",
      " Accuracy: 93.0%, Avg test loss: 0.21105 \n",
      "\n",
      "Epoch 37\n",
      "Average training Loss: 0.23841\n",
      "Error: \n",
      " Accuracy: 92.6%, Avg test loss: 0.21327 \n",
      "\n",
      "Epoch 38\n",
      "Average training Loss: 0.24275\n",
      "Error: \n",
      " Accuracy: 92.6%, Avg test loss: 0.21448 \n",
      "\n",
      "Epoch 39\n",
      "Average training Loss: 0.22711\n",
      "Error: \n",
      " Accuracy: 93.0%, Avg test loss: 0.21278 \n",
      "\n"
     ]
    },
    {
     "data": {
      "image/png": "[encoded data removed]",
      "text/plain": [
       "<Figure size 640x480 with 1 Axes>"
      ]
     },
     "metadata": {},
     "output_type": "display_data"
    }
   ],
   "source": [
    "hid_layer2 = [80,45] # number of nodes in the hidden layers, we have 2 hidden layers now so we need to specify the number of nodes in both layers\n",
    "dropout_rate = 0.5 # Hyperparameter\n",
    "model2 = NetworkWithDropout(hid_layer2, dropout_rate=dropout_rate) #instantiate\n",
    "\n",
    "#Hyperparameters\n",
    "epochs = 40 \n",
    "learning_rate = 1e-3 \n",
    "weight_decay = 1e-5 # L2 regularization\n",
    "\n",
    "loss_fn = nn.CrossEntropyLoss()\n",
    "opt = optim.Adam(model2.parameters(), lr=learning_rate, weight_decay=weight_decay)\n",
    "train_loss = [] # list to store train loss\n",
    "val_loss = [] # list to store val loss\n",
    "\n",
    "for t in range(epochs):\n",
    "    print(f'Epoch {t}')\n",
    "    train_loss.append(train_loop(model2, train_dataloader,  loss_fn, opt)) # to plot the graph\n",
    "    val_loss.append(test_loop(model2, val_dataloader, loss_fn))\n",
    "    \n",
    "# plot the loss\n",
    "plot_loss(train_loss, val_loss, epochs)"
   ]
  },
  {
   "cell_type": "code",
   "execution_count": 31,
   "id": "64e1a29e",
   "metadata": {},
   "outputs": [
    {
     "name": "stdout",
     "output_type": "stream",
     "text": [
      "Performing test...\n",
      "\n",
      "Error: \n",
      " Accuracy: 87.7%, Avg test loss: 0.33560 \n",
      "\n"
     ]
    },
    {
     "data": {
      "text/plain": [
       "0.33560114134760466"
      ]
     },
     "execution_count": 31,
     "metadata": {},
     "output_type": "execute_result"
    }
   ],
   "source": [
    "print('Performing test...\\n')\n",
    "test_loop(model2,test_dataloader,loss_fn)"
   ]
  },
  {
   "cell_type": "markdown",
   "id": "f5d8e549",
   "metadata": {},
   "source": [
    "Now it is your turn! Experiment with changing the architecture and see what sort of . Try to make one model that *overfits*, one that *underfits* and one that beats my models performance above!\n",
    "\n",
    "> 💡 **Tip:**  \n",
    "> Adding more neurons or more layers can make a network more powerful — but also **easier to overfit**.  \n",
    "> \n",
    "> Good practice is to start with a **small network** and make it larger only if necessary.  "
   ]
  },
  {
   "cell_type": "code",
   "execution_count": null,
   "id": "106c3fbb",
   "metadata": {},
   "outputs": [],
   "source": []
  },
  {
   "cell_type": "code",
   "execution_count": null,
   "id": "a809382c",
   "metadata": {},
   "outputs": [],
   "source": []
  },
  {
   "cell_type": "code",
   "execution_count": null,
   "id": "f07c5255",
   "metadata": {},
   "outputs": [],
   "source": []
  }
 ],
 "metadata": {
  "colab": {
   "provenance": []
  },
  "kernelspec": {
   "display_name": "ml2025",
   "language": "python",
   "name": "python3"
  },
  "language_info": {
   "codemirror_mode": {
    "name": "ipython",
    "version": 3
   },
   "file_extension": ".py",
   "mimetype": "text/x-python",
   "name": "python",
   "nbconvert_exporter": "python",
   "pygments_lexer": "ipython3",
   "version": "3.11.11"
  }
 },
 "nbformat": 4,
 "nbformat_minor": 5
}
